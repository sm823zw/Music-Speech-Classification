{
 "cells": [
  {
   "cell_type": "code",
   "execution_count": 1,
   "metadata": {},
   "outputs": [],
   "source": [
    "import numpy as np\n",
    "import matplotlib.pyplot as plt\n",
    "import os\n",
    "import math\n",
    "import random\n",
    "import pandas as pd\n",
    "import scipy.stats\n",
    "from scipy.io import wavfile\n",
    "from scipy.spatial.distance import cdist"
   ]
  },
  {
   "cell_type": "code",
   "execution_count": 2,
   "metadata": {},
   "outputs": [],
   "source": [
    "path_music = './speech_music_classification/train/music'\n",
    "path_speech = './speech_music_classification/train/speech'"
   ]
  },
  {
   "cell_type": "code",
   "execution_count": 3,
   "metadata": {},
   "outputs": [],
   "source": [
    "files_music = os.listdir(path_music)\n",
    "files_speech = os.listdir(path_speech)"
   ]
  },
  {
   "cell_type": "code",
   "execution_count": 4,
   "metadata": {},
   "outputs": [],
   "source": [
    "# FUNCTION TO COMPUTE THE SPECTROGRAM OF AN AUDIO SAMPLE\n",
    "def spectrogram(freq, signal ,window_size, shift, dft_point):\n",
    "    sample_size = int((len(signal) - freq*window_size)/(freq*shift) + 1)\n",
    "    spec = np.zeros((int(dft_point/2),sample_size),dtype=complex)\n",
    "    for i in range(sample_size):\n",
    "        sample = np.fft.fft(np.hamming(400)*signal[int(i*shift*freq):int(i*shift*freq) + int(window_size*freq)], dft_point)\n",
    "        spec[:,i] = sample[0:int(dft_point/2)]\n",
    "    spec = np.absolute(spec)\n",
    "    spec = np.log(spec)\n",
    "    return spec"
   ]
  },
  {
   "cell_type": "code",
   "execution_count": 5,
   "metadata": {},
   "outputs": [],
   "source": [
    "window_size = 0.025\n",
    "shift = 0.010\n",
    "dft_point = 64\n",
    "a = 32\n",
    "b = 2998\n",
    "total_samples = len(files_music)\n",
    "music = np.zeros((b * total_samples, a))\n",
    "speech = np.zeros((b * total_samples, a))"
   ]
  },
  {
   "cell_type": "code",
   "execution_count": 6,
   "metadata": {},
   "outputs": [],
   "source": [
    "# THIS BLOCK OF CODE COMPUTES THE SPECTROGRAM OF ALL THE MUSIC AND SPEECH FILES\n",
    "# AND STORES ALL THE FRAMES OBTAINED IN TWO MATRICES\n",
    "for i in range(total_samples):\n",
    "    freq, signal = wavfile.read(path_music + '/' + files_music[i])\n",
    "    spec = spectrogram(freq, signal, window_size, shift, dft_point)\n",
    "    spec = spec.T\n",
    "    music[b * i: b * (i+1), :] = spec\n",
    "\n",
    "for i in range(total_samples):\n",
    "    freq, signal = wavfile.read(path_speech + '/' + files_speech[i])\n",
    "    spec = spectrogram(freq, signal, window_size, shift, dft_point)\n",
    "    spec = spec.T\n",
    "    speech[b * i:b * (i+1), :] = spec"
   ]
  },
  {
   "cell_type": "code",
   "execution_count": 7,
   "metadata": {},
   "outputs": [
    {
     "data": {
      "text/plain": [
       "(119920, 32)"
      ]
     },
     "execution_count": 7,
     "metadata": {},
     "output_type": "execute_result"
    }
   ],
   "source": [
    "music.shape"
   ]
  },
  {
   "cell_type": "code",
   "execution_count": 8,
   "metadata": {},
   "outputs": [
    {
     "data": {
      "text/plain": [
       "(119920, 32)"
      ]
     },
     "execution_count": 8,
     "metadata": {},
     "output_type": "execute_result"
    }
   ],
   "source": [
    "speech.shape"
   ]
  },
  {
   "cell_type": "code",
   "execution_count": 9,
   "metadata": {},
   "outputs": [],
   "source": [
    "# FUNCTION TO CALCULATE LOG LIKELIHOOD\n",
    "def calc_loglikelihood(x, pis, means, cov):\n",
    "    N = x.shape[0]\n",
    "    d = x.shape[1]\n",
    "    ll = np.array([pis[j] * scipy.stats.multivariate_normal(means[j], cov[j], allow_singular=True).pdf(x) for j in range(mix)])\n",
    "    ll_sum = np.sum(ll, axis=0)\n",
    "    log_ll = np.log(ll_sum)\n",
    "    log_ll_sum = (1/N)*np.sum(log_ll)\n",
    "    return log_ll_sum\n",
    "\n",
    "# FUNCTION TO CALCULATE RESPONSIBILITY\n",
    "def calc_responsibility(x, pis, means, cov):\n",
    "    N = x.shape[0]\n",
    "    d = x.shape[1]\n",
    "    resp = np.array([pis[j] * scipy.stats.multivariate_normal(means[j], cov[j], allow_singular=True).pdf(x) for j in range(mix)]).T\n",
    "    resp = resp.reshape((N, mix))\n",
    "    resp_sum = np.sum(resp, axis=1)\n",
    "    resp_sum = resp_sum.reshape((N, 1))\n",
    "    resp = resp/resp_sum\n",
    "    return resp\n",
    "\n",
    "# FUNCTION TO CALCULATE Nk\n",
    "def calc_Nk(resp):\n",
    "    Nk = np.sum(resp, axis=0)\n",
    "    Nk = Nk.reshape((mix, 1))\n",
    "    return Nk\n",
    "\n",
    "# FUNCTION TO UPDATE THE WEIGHTS / PRIOR PROBABILITIES\n",
    "def update_weights(Nk, N):\n",
    "    pis = Nk/N\n",
    "    return pis\n",
    "\n",
    "# FUNCTION TO UPDATE THE MEANS\n",
    "def update_means(x, resp, Nk):\n",
    "    means = (np.dot(resp.T, x))/Nk\n",
    "    return means\n",
    "\n",
    "# FUNCTION TO UPDATE THE COVARIANCE MATRIX\n",
    "def update_cov_matrix(x, resp, means, Nk, cov_type):\n",
    "    N = x.shape[0]\n",
    "    d = x.shape[1]\n",
    "    cov = [np.sum(np.array([resp[i][j] * np.dot((x[i] - means[j]).reshape((d, 1)), (x[i] - means[j]).reshape((d, 1)).T) for i in range(N)]), axis=0) for j in range(mix)]\n",
    "    cov = np.array(cov)\n",
    "    if(cov_type == 'diag'):\n",
    "        cov = np.array([np.diag(np.diag(cov[i])) for i in range(mix)])\n",
    "    cov = np.array([cov[i]/Nk[i] for i in range(mix)])\n",
    "    return cov\n",
    "\n",
    "\n",
    "# FUNCTION TO FIND K-MEANS CLUSTER CENTROIDS AND LABELS FOR EACH SAMPLE\n",
    "def kmeans(x, mix, itr):\n",
    "    N = x.shape[0]\n",
    "    idx = np.random.choice(N, mix)\n",
    "    centroids = x[idx, :]\n",
    "    distances = cdist(x, centroids ,'euclidean')\n",
    "    labels = np.array([np.argmin(i) for i in distances])\n",
    "    for _ in range(itr):\n",
    "        centroids = []\n",
    "        for idx in range(mix):\n",
    "            temp = x[labels==idx].mean(axis=0) \n",
    "            centroids.append(temp)\n",
    "        centroids = np.vstack(centroids)\n",
    "        distances = cdist(x, centroids ,'euclidean')\n",
    "        labels = np.array([np.argmin(i) for i in distances])\n",
    "    return centroids, labels\n",
    "\n",
    "\n",
    "# FUNCTION FOR OBTAINING GMM PARAMETERS/ EM ALGORITHM\n",
    "def gmm(x, itr, mix, cov_type):\n",
    "    N = x.shape[0]\n",
    "    d = x.shape[1]\n",
    "    # K-MEANS INITIALIZATION\n",
    "    means, labels = kmeans(x, mix, 50)\n",
    "    \n",
    "    # INITIALIZE WEIGHTS, MEANS, AND COVARIANCE MATRICES\n",
    "    cov = []\n",
    "    pis = []\n",
    "    \n",
    "    for i in range(mix):\n",
    "        dat = x[labels == i].T\n",
    "        p = dat.shape[1]/N\n",
    "        dat = (1/p) * np.cov(dat)\n",
    "        cov.append(dat)\n",
    "        pis.append(p)\n",
    "    \n",
    "    cov = np.array(cov)\n",
    "    pis = np.array(pis)\n",
    "    \n",
    "    # RUN EM-ALGORITHM FOR GIVEN NO. OF ITERATIONS\n",
    "    log_likelihood = []\n",
    "    for itr in range(itr):\n",
    "        # E - STEP\n",
    "        resp = calc_responsibility(x, pis, means, cov)\n",
    "        # M - STEP\n",
    "        Nk = calc_Nk(resp)\n",
    "        pis = update_weights(Nk, N)\n",
    "        means = update_means(x, resp, Nk)\n",
    "        cov = update_cov_matrix(x, resp, means, Nk, cov_type)\n",
    "        log_likelihood.append(calc_loglikelihood(x, pis, means, cov))\n",
    "        print('Log Likelihood = ' + str(log_likelihood[-1]))\n",
    "\n",
    "    return pis, means, cov, log_likelihood"
   ]
  },
  {
   "cell_type": "code",
   "execution_count": 10,
   "metadata": {},
   "outputs": [],
   "source": [
    "# THE INPUT HYPER-PARAMETERS FOR EM ALGORITHMS\n",
    "itr = 100\n",
    "mix = 5\n",
    "cov_type = 'full'"
   ]
  },
  {
   "cell_type": "code",
   "execution_count": 11,
   "metadata": {},
   "outputs": [
    {
     "name": "stdout",
     "output_type": "stream",
     "text": [
      "Log Likelihood = -29.353457894825528\n",
      "Log Likelihood = -28.133670595904515\n",
      "Log Likelihood = -27.22274057002937\n",
      "Log Likelihood = -26.556040324287466\n",
      "Log Likelihood = -26.108756928460718\n",
      "Log Likelihood = -25.81903302038141\n",
      "Log Likelihood = -25.618407008294543\n",
      "Log Likelihood = -25.46984146982825\n",
      "Log Likelihood = -25.346239298093675\n",
      "Log Likelihood = -25.230510124120084\n",
      "Log Likelihood = -25.11578138588574\n",
      "Log Likelihood = -24.999200061448086\n",
      "Log Likelihood = -24.879759242804372\n",
      "Log Likelihood = -24.7609360487787\n",
      "Log Likelihood = -24.646680685169255\n",
      "Log Likelihood = -24.538563596868748\n",
      "Log Likelihood = -24.437735741717848\n",
      "Log Likelihood = -24.348366181158337\n",
      "Log Likelihood = -24.274565297728955\n",
      "Log Likelihood = -24.2144892935224\n",
      "Log Likelihood = -24.162725492807375\n",
      "Log Likelihood = -24.116221102492357\n",
      "Log Likelihood = -24.075261144328483\n",
      "Log Likelihood = -24.04054654064705\n",
      "Log Likelihood = -24.012548826408185\n",
      "Log Likelihood = -23.990379152318386\n",
      "Log Likelihood = -23.97275965976343\n",
      "Log Likelihood = -23.95870756246671\n",
      "Log Likelihood = -23.947362573046437\n",
      "Log Likelihood = -23.93790732665729\n",
      "Log Likelihood = -23.92980769951544\n",
      "Log Likelihood = -23.922746145569512\n",
      "Log Likelihood = -23.91649862147898\n",
      "Log Likelihood = -23.910898919672434\n",
      "Log Likelihood = -23.905830720086737\n",
      "Log Likelihood = -23.9012111411096\n",
      "Log Likelihood = -23.89697864709598\n",
      "Log Likelihood = -23.893089757403168\n",
      "Log Likelihood = -23.88952183700995\n",
      "Log Likelihood = -23.88627080636011\n",
      "Log Likelihood = -23.883336458613925\n",
      "Log Likelihood = -23.88070829200794\n",
      "Log Likelihood = -23.878363906373686\n",
      "Log Likelihood = -23.876274285632086\n",
      "Log Likelihood = -23.87440775360859\n",
      "Log Likelihood = -23.87273215552979\n",
      "Log Likelihood = -23.871217072423015\n",
      "Log Likelihood = -23.869835699320664\n",
      "Log Likelihood = -23.86856542303179\n",
      "Log Likelihood = -23.86738728686905\n",
      "Log Likelihood = -23.866285224494835\n",
      "Log Likelihood = -23.865245518361167\n",
      "Log Likelihood = -23.864256491222296\n",
      "Log Likelihood = -23.863308369751323\n",
      "Log Likelihood = -23.862393411713903\n",
      "Log Likelihood = -23.861506305966532\n",
      "Log Likelihood = -23.860643974006315\n",
      "Log Likelihood = -23.859804166707946\n",
      "Log Likelihood = -23.85898429087602\n",
      "Log Likelihood = -23.8581815712767\n",
      "Log Likelihood = -23.857393664337497\n",
      "Log Likelihood = -23.85661847858541\n",
      "Log Likelihood = -23.8558536317544\n",
      "Log Likelihood = -23.855096097495803\n",
      "Log Likelihood = -23.854342017315968\n",
      "Log Likelihood = -23.853587102133126\n",
      "Log Likelihood = -23.85282743408591\n",
      "Log Likelihood = -23.852059302990483\n",
      "Log Likelihood = -23.851277762925193\n",
      "Log Likelihood = -23.850474514580647\n",
      "Log Likelihood = -23.849634864568433\n",
      "Log Likelihood = -23.848734114065753\n",
      "Log Likelihood = -23.847734552543454\n",
      "Log Likelihood = -23.846578820350096\n",
      "Log Likelihood = -23.845220909749347\n",
      "Log Likelihood = -23.843668558299488\n",
      "Log Likelihood = -23.841924362302088\n",
      "Log Likelihood = -23.84001982498681\n",
      "Log Likelihood = -23.837968364087565\n",
      "Log Likelihood = -23.835735357695135\n",
      "Log Likelihood = -23.833284423728806\n",
      "Log Likelihood = -23.830628710741355\n",
      "Log Likelihood = -23.827825836763104\n",
      "Log Likelihood = -23.82493914885579\n",
      "Log Likelihood = -23.822030924298836\n",
      "Log Likelihood = -23.81916438989601\n",
      "Log Likelihood = -23.816390517694614\n",
      "Log Likelihood = -23.813725307340768\n",
      "Log Likelihood = -23.811161292957536\n",
      "Log Likelihood = -23.808683854142778\n",
      "Log Likelihood = -23.80627757209457\n",
      "Log Likelihood = -23.80392835827577\n",
      "Log Likelihood = -23.8016269816518\n",
      "Log Likelihood = -23.799371635296843\n",
      "Log Likelihood = -23.797165673786736\n",
      "Log Likelihood = -23.795013951721586\n",
      "Log Likelihood = -23.792920870313285\n",
      "Log Likelihood = -23.790890293428262\n",
      "Log Likelihood = -23.788925525070557\n",
      "Log Likelihood = -23.787029151281192\n"
     ]
    }
   ],
   "source": [
    "# RUN EM ALGORITHM\n",
    "music_pis, music_means, music_cov, music_log_likelihood = gmm(music, itr, mix, cov_type)"
   ]
  },
  {
   "cell_type": "code",
   "execution_count": 12,
   "metadata": {},
   "outputs": [
    {
     "data": {
      "text/plain": [
       "array([[0.1153941 ],\n",
       "       [0.27864629],\n",
       "       [0.19029382],\n",
       "       [0.35975535],\n",
       "       [0.05591044]])"
      ]
     },
     "execution_count": 12,
     "metadata": {},
     "output_type": "execute_result"
    }
   ],
   "source": [
    "music_pis"
   ]
  },
  {
   "cell_type": "code",
   "execution_count": 13,
   "metadata": {},
   "outputs": [
    {
     "data": {
      "text/plain": [
       "array([[8.51107964, 8.60014393, 8.32843981, 7.88588945, 7.50750458,\n",
       "        7.23722595, 7.03935144, 6.84013082, 6.65979828, 6.53006334,\n",
       "        6.39725765, 6.29711062, 6.20045144, 6.12040994, 6.04289544,\n",
       "        5.97403514, 5.91393737, 5.85802084, 5.81154974, 5.76857049,\n",
       "        5.72899662, 5.6949777 , 5.66666867, 5.63977726, 5.61656019,\n",
       "        5.59491881, 5.57983789, 5.56543136, 5.55328248, 5.54452696,\n",
       "        5.53753011, 5.53100461],\n",
       "       [8.61718606, 8.55685718, 8.37257767, 7.96885378, 7.68343746,\n",
       "        7.49313226, 7.3656558 , 7.26899067, 7.1609757 , 7.04945861,\n",
       "        6.97296693, 6.83534205, 6.70119782, 6.61186286, 6.45594613,\n",
       "        6.35411919, 6.19199521, 6.04744899, 5.95703433, 5.87316684,\n",
       "        5.81423608, 5.76133765, 5.71606542, 5.65891127, 5.64008195,\n",
       "        5.6051982 , 5.58320608, 5.55478408, 5.54305037, 5.51841115,\n",
       "        5.49824294, 5.42861235],\n",
       "       [8.47289554, 8.60769501, 8.53759391, 8.07075206, 7.71843429,\n",
       "        7.52987177, 7.37972797, 7.26397588, 7.13205981, 7.02664663,\n",
       "        6.91428403, 6.79727156, 6.67446406, 6.58215836, 6.42564427,\n",
       "        6.33983885, 6.21902761, 6.12482266, 6.06044048, 5.99929054,\n",
       "        5.9466861 , 5.89988672, 5.8602171 , 5.82807094, 5.79794398,\n",
       "        5.77567874, 5.7565442 , 5.73814197, 5.72564112, 5.71029538,\n",
       "        5.70153001, 5.69282981],\n",
       "       [8.33791433, 8.32244554, 8.15306243, 7.7850619 , 7.50716174,\n",
       "        7.35222235, 7.23810332, 7.15202904, 7.03530214, 6.95527872,\n",
       "        6.84766333, 6.71870081, 6.61434525, 6.55345632, 6.40496508,\n",
       "        6.29588805, 6.16365349, 6.05265414, 5.96159977, 5.83445053,\n",
       "        5.70109486, 5.6402028 , 5.56944178, 5.48098885, 5.43031377,\n",
       "        5.40514394, 5.38309117, 5.33015499, 5.29687871, 5.21906039,\n",
       "        5.1437474 , 4.72151438],\n",
       "       [8.47271378, 8.75199151, 8.49525757, 8.00301042, 7.61136371,\n",
       "        7.3217039 , 7.11418843, 6.94415469, 6.79456013, 6.67050823,\n",
       "        6.56338787, 6.46951281, 6.38486338, 6.31183441, 6.24393035,\n",
       "        6.18484114, 6.13138325, 6.08269929, 6.03859081, 5.99929217,\n",
       "        5.96342121, 5.93143862, 5.90438222, 5.87776192, 5.8558669 ,\n",
       "        5.83531132, 5.81969213, 5.80660877, 5.79583729, 5.78692575,\n",
       "        5.78019749, 5.77630498]])"
      ]
     },
     "execution_count": 13,
     "metadata": {},
     "output_type": "execute_result"
    }
   ],
   "source": [
    "music_means"
   ]
  },
  {
   "cell_type": "code",
   "execution_count": 14,
   "metadata": {},
   "outputs": [
    {
     "data": {
      "text/plain": [
       "[<matplotlib.lines.Line2D at 0x210f477f0a0>]"
      ]
     },
     "execution_count": 14,
     "metadata": {},
     "output_type": "execute_result"
    },
    {
     "data": {
      "image/png": "[encoded data removed]",
      "text/plain": [
       "<Figure size 432x288 with 1 Axes>"
      ]
     },
     "metadata": {
      "needs_background": "light"
     },
     "output_type": "display_data"
    }
   ],
   "source": [
    "plt.plot(music_log_likelihood)"
   ]
  },
  {
   "cell_type": "code",
   "execution_count": 15,
   "metadata": {},
   "outputs": [],
   "source": [
    "# THE INPUT HYPER-PARAMETERS FOR EM ALGORITHMS\n",
    "itr = 75\n",
    "mix = 5\n",
    "cov_type = 'full'"
   ]
  },
  {
   "cell_type": "code",
   "execution_count": 16,
   "metadata": {},
   "outputs": [
    {
     "name": "stdout",
     "output_type": "stream",
     "text": [
      "Log Likelihood = -31.74726563376108\n",
      "Log Likelihood = -19.659795926739925\n",
      "Log Likelihood = -28.84330098860184\n",
      "Log Likelihood = -28.582962161522072\n",
      "Log Likelihood = -28.42839646495327\n",
      "Log Likelihood = -28.266847255720847\n",
      "Log Likelihood = -28.124979445179005\n",
      "Log Likelihood = -28.024790547024715\n",
      "Log Likelihood = -27.953053432348742\n",
      "Log Likelihood = -27.89074750126137\n",
      "Log Likelihood = -27.83838719598022\n",
      "Log Likelihood = -27.7987108982226\n",
      "Log Likelihood = -27.768337085114553\n",
      "Log Likelihood = -27.744676574251386\n",
      "Log Likelihood = -27.726735436249054\n",
      "Log Likelihood = -27.713940854968516\n",
      "Log Likelihood = -27.705277181428343\n",
      "Log Likelihood = -27.69941595199331\n",
      "Log Likelihood = -27.695323226553228\n",
      "Log Likelihood = -27.692332316512765\n",
      "Log Likelihood = -27.69004446264925\n",
      "Log Likelihood = -27.688211393596283\n",
      "Log Likelihood = -27.68667492902041\n",
      "Log Likelihood = -27.68533206448952\n",
      "Log Likelihood = -27.6841130881811\n",
      "Log Likelihood = -27.682968495404104\n",
      "Log Likelihood = -27.68186221702266\n",
      "Log Likelihood = -27.68076910185853\n",
      "Log Likelihood = -27.679674358836394\n",
      "Log Likelihood = -27.678573146470075\n",
      "Log Likelihood = -27.677469607622466\n",
      "Log Likelihood = -27.676374836740536\n",
      "Log Likelihood = -27.67530365449153\n",
      "Log Likelihood = -27.674271573967463\n",
      "Log Likelihood = -27.67329232564382\n",
      "Log Likelihood = -27.672375089580637\n",
      "Log Likelihood = -27.671523232222405\n",
      "Log Likelihood = -27.670735723355016\n",
      "Log Likelihood = -27.670009163080962\n",
      "Log Likelihood = -27.66933904228801\n",
      "Log Likelihood = -27.668720354091032\n",
      "Log Likelihood = -27.66814777559388\n",
      "Log Likelihood = -27.667615596828508\n",
      "Log Likelihood = -27.667117877999495\n",
      "Log Likelihood = -27.666648850949986\n",
      "Log Likelihood = -27.66620318383805\n",
      "Log Likelihood = -27.665776254653096\n",
      "Log Likelihood = -27.66536465941596\n",
      "Log Likelihood = -27.664966514381394\n",
      "Log Likelihood = -27.664581022575838\n",
      "Log Likelihood = -27.66420787757374\n",
      "Log Likelihood = -27.663847324218537\n",
      "Log Likelihood = -27.663500361036473\n",
      "Log Likelihood = -27.6631682296408\n",
      "Log Likelihood = -27.662851561629285\n",
      "Log Likelihood = -27.662550138334915\n",
      "Log Likelihood = -27.662263332719967\n",
      "Log Likelihood = -27.661990623443288\n",
      "Log Likelihood = -27.661731859049574\n",
      "Log Likelihood = -27.661487304917348\n",
      "Log Likelihood = -27.66125750154772\n",
      "Log Likelihood = -27.661042973012087\n",
      "Log Likelihood = -27.66084393237387\n",
      "Log Likelihood = -27.66066013107492\n",
      "Log Likelihood = -27.660490898178235\n",
      "Log Likelihood = -27.66033529185319\n",
      "Log Likelihood = -27.660192243999887\n",
      "Log Likelihood = -27.660060647792424\n",
      "Log Likelihood = -27.659939406507316\n",
      "Log Likelihood = -27.659827471983792\n",
      "Log Likelihood = -27.65972388150759\n",
      "Log Likelihood = -27.65962778623421\n",
      "Log Likelihood = -27.65953846395802\n",
      "Log Likelihood = -27.659455317264275\n",
      "Log Likelihood = -27.659377863390446\n"
     ]
    }
   ],
   "source": [
    "#RUN EM ALGORITHM\n",
    "speech_pis, speech_means, speech_cov, speech_log_likelihood = gmm(speech, itr, mix, cov_type)"
   ]
  },
  {
   "cell_type": "code",
   "execution_count": 17,
   "metadata": {},
   "outputs": [
    {
     "data": {
      "text/plain": [
       "array([[0.08454871],\n",
       "       [0.04493112],\n",
       "       [0.08211542],\n",
       "       [0.17178253],\n",
       "       [0.61662222]])"
      ]
     },
     "execution_count": 17,
     "metadata": {},
     "output_type": "execute_result"
    }
   ],
   "source": [
    "speech_pis"
   ]
  },
  {
   "cell_type": "code",
   "execution_count": 18,
   "metadata": {},
   "outputs": [
    {
     "data": {
      "text/plain": [
       "array([[8.17693039, 7.69072011, 7.12405529, 6.64658999, 6.33392112,\n",
       "        6.09156538, 5.91518138, 5.7584947 , 5.62923654, 5.52166541,\n",
       "        5.43985637, 5.34613669, 5.25454873, 5.17795016, 5.11115545,\n",
       "        5.0516085 , 4.98674399, 4.9334224 , 4.88123325, 4.84453855,\n",
       "        4.81623423, 4.77599262, 4.74732612, 4.72122561, 4.69924368,\n",
       "        4.68716024, 4.66120371, 4.64440009, 4.63511358, 4.62933404,\n",
       "        4.61803216, 4.59332464],\n",
       "       [8.37266434, 8.40692994, 7.79668591, 7.31277717, 6.99633711,\n",
       "        6.75684916, 6.56793473, 6.41180046, 6.27900979, 6.16222626,\n",
       "        6.06713896, 5.9796344 , 5.89434931, 5.8225726 , 5.76195487,\n",
       "        5.7043958 , 5.65213757, 5.6014137 , 5.55643859, 5.51845591,\n",
       "        5.48339286, 5.45178693, 5.42414514, 5.39858837, 5.37642161,\n",
       "        5.35674774, 5.34020272, 5.32592682, 5.31686569, 5.30709082,\n",
       "        5.30257399, 5.2948297 ],\n",
       "       [8.10049511, 8.55406214, 8.5171962 , 8.05639272, 7.64375588,\n",
       "        7.43838488, 7.33699836, 7.20791633, 7.08692463, 7.01887245,\n",
       "        7.01354989, 6.8582029 , 6.66606051, 6.53727626, 6.41460517,\n",
       "        6.3184605 , 6.21914943, 6.1401308 , 6.07726345, 6.0248467 ,\n",
       "        5.97717436, 5.93855934, 5.90456429, 5.87298887, 5.84515851,\n",
       "        5.82303878, 5.80354747, 5.78851639, 5.77508627, 5.76421781,\n",
       "        5.75861199, 5.75225888],\n",
       "       [8.03739341, 8.38052192, 8.36010325, 7.89198263, 7.4388218 ,\n",
       "        7.24219942, 7.18240013, 7.08635135, 6.94682798, 6.88104636,\n",
       "        6.86767152, 6.69174123, 6.48988624, 6.36608006, 6.25740298,\n",
       "        6.14344929, 5.99431783, 5.86680094, 5.79497179, 5.74251446,\n",
       "        5.68159378, 5.63361335, 5.60080857, 5.55532483, 5.52189874,\n",
       "        5.49931055, 5.47880882, 5.45133311, 5.43819498, 5.42650556,\n",
       "        5.4121504 , 5.38507056],\n",
       "       [7.30100803, 7.24528935, 6.99234053, 6.56863534, 6.26092756,\n",
       "        6.08359839, 6.0764339 , 6.02059119, 5.9236827 , 5.81087209,\n",
       "        5.81518338, 5.68364039, 5.50298395, 5.4177333 , 5.37038256,\n",
       "        5.36342132, 5.26551567, 5.17229485, 5.09767271, 5.05274453,\n",
       "        4.98931642, 4.96075211, 5.04810609, 4.91094886, 4.86090081,\n",
       "        4.86426206, 4.84965415, 4.7791345 , 4.79623508, 4.71415303,\n",
       "        4.64633248, 4.23266743]])"
      ]
     },
     "execution_count": 18,
     "metadata": {},
     "output_type": "execute_result"
    }
   ],
   "source": [
    "speech_means"
   ]
  },
  {
   "cell_type": "code",
   "execution_count": 20,
   "metadata": {},
   "outputs": [
    {
     "data": {
      "text/plain": [
       "[<matplotlib.lines.Line2D at 0x210f48b9d00>]"
      ]
     },
     "execution_count": 20,
     "metadata": {},
     "output_type": "execute_result"
    },
    {
     "data": {
      "image/png": "[encoded data removed]",
      "text/plain": [
       "<Figure size 432x288 with 1 Axes>"
      ]
     },
     "metadata": {
      "needs_background": "light"
     },
     "output_type": "display_data"
    }
   ],
   "source": [
    "plt.plot(speech_log_likelihood)"
   ]
  },
  {
   "cell_type": "markdown",
   "metadata": {},
   "source": [
    "TEST "
   ]
  },
  {
   "cell_type": "code",
   "execution_count": 21,
   "metadata": {},
   "outputs": [],
   "source": [
    "path_test = './speech_music_classification/test'"
   ]
  },
  {
   "cell_type": "code",
   "execution_count": 22,
   "metadata": {},
   "outputs": [],
   "source": [
    "files_test = os.listdir(path_test)"
   ]
  },
  {
   "cell_type": "code",
   "execution_count": 23,
   "metadata": {},
   "outputs": [],
   "source": [
    "window_size = 0.025\n",
    "shift = 0.010\n",
    "dft_point = 64\n",
    "a = 32\n",
    "b = 2998\n",
    "total_samples = len(files_test)\n",
    "test = np.zeros((b * total_samples, a))"
   ]
  },
  {
   "cell_type": "code",
   "execution_count": 24,
   "metadata": {},
   "outputs": [],
   "source": [
    "# THIS BLOCK OF CODE COMPUTES THE SPECTROGRAM OF ALL THE TEST FILES\n",
    "# AND STORES ALL THE FRAMES OBTAINED IN MATRIX\n",
    "for i in range(total_samples):\n",
    "    freq, signal = wavfile.read(path_test + '/' + files_test[i])\n",
    "    spec = spectrogram(freq, signal, window_size, shift, dft_point)\n",
    "    spec = spec.T\n",
    "    test[b*i:b*(i+1), :] = spec"
   ]
  },
  {
   "cell_type": "code",
   "execution_count": 25,
   "metadata": {},
   "outputs": [
    {
     "data": {
      "text/plain": [
       "(143904, 32)"
      ]
     },
     "execution_count": 25,
     "metadata": {},
     "output_type": "execute_result"
    }
   ],
   "source": [
    "test.shape"
   ]
  },
  {
   "cell_type": "code",
   "execution_count": 26,
   "metadata": {},
   "outputs": [],
   "source": [
    "# FUNCTION TO FIND THE POSTERIOR PROBABILITY\n",
    "def posterior_prob(x, means, pis, cov):\n",
    "    val = 0\n",
    "    for i in range(pis.shape[0]):\n",
    "        val += pis[i] * scipy.stats.multivariate_normal(means[i], cov[i], allow_singular=True).pdf(x)\n",
    "    return val[0]\n",
    "\n",
    "# FUNCTION TO CHECK WHICH CLASS THE FRAME BELONGS TO\n",
    "def prediction(posterior_speech, posterior_music):\n",
    "    if posterior_speech > posterior_music:\n",
    "        return 'speech'\n",
    "    else:\n",
    "        return 'music'"
   ]
  },
  {
   "cell_type": "code",
   "execution_count": 27,
   "metadata": {},
   "outputs": [],
   "source": [
    "# CONVERT THE SPECTROGRAM MATRIX TO A DATAFRAME \n",
    "test = pd.DataFrame(test)"
   ]
  },
  {
   "cell_type": "code",
   "execution_count": 28,
   "metadata": {},
   "outputs": [
    {
     "data": {
      "text/html": [
       "<div>\n",
       "<style scoped>\n",
       "    .dataframe tbody tr th:only-of-type {\n",
       "        vertical-align: middle;\n",
       "    }\n",
       "\n",
       "    .dataframe tbody tr th {\n",
       "        vertical-align: top;\n",
       "    }\n",
       "\n",
       "    .dataframe thead th {\n",
       "        text-align: right;\n",
       "    }\n",
       "</style>\n",
       "<table border=\"1\" class=\"dataframe\">\n",
       "  <thead>\n",
       "    <tr style=\"text-align: right;\">\n",
       "      <th></th>\n",
       "      <th>0</th>\n",
       "      <th>1</th>\n",
       "      <th>2</th>\n",
       "      <th>3</th>\n",
       "      <th>4</th>\n",
       "      <th>5</th>\n",
       "      <th>6</th>\n",
       "      <th>7</th>\n",
       "      <th>8</th>\n",
       "      <th>9</th>\n",
       "      <th>...</th>\n",
       "      <th>22</th>\n",
       "      <th>23</th>\n",
       "      <th>24</th>\n",
       "      <th>25</th>\n",
       "      <th>26</th>\n",
       "      <th>27</th>\n",
       "      <th>28</th>\n",
       "      <th>29</th>\n",
       "      <th>30</th>\n",
       "      <th>31</th>\n",
       "    </tr>\n",
       "  </thead>\n",
       "  <tbody>\n",
       "    <tr>\n",
       "      <th>0</th>\n",
       "      <td>8.295467</td>\n",
       "      <td>8.318956</td>\n",
       "      <td>7.999337</td>\n",
       "      <td>6.964759</td>\n",
       "      <td>6.827860</td>\n",
       "      <td>8.475189</td>\n",
       "      <td>6.470193</td>\n",
       "      <td>8.252470</td>\n",
       "      <td>8.389498</td>\n",
       "      <td>7.621969</td>\n",
       "      <td>...</td>\n",
       "      <td>5.574076</td>\n",
       "      <td>5.432005</td>\n",
       "      <td>5.856495</td>\n",
       "      <td>5.523090</td>\n",
       "      <td>6.458106</td>\n",
       "      <td>6.703065</td>\n",
       "      <td>6.202657</td>\n",
       "      <td>5.058894</td>\n",
       "      <td>3.085059</td>\n",
       "      <td>3.910491</td>\n",
       "    </tr>\n",
       "    <tr>\n",
       "      <th>1</th>\n",
       "      <td>5.963892</td>\n",
       "      <td>8.545669</td>\n",
       "      <td>7.530862</td>\n",
       "      <td>7.587834</td>\n",
       "      <td>6.873149</td>\n",
       "      <td>8.250494</td>\n",
       "      <td>7.813603</td>\n",
       "      <td>7.995235</td>\n",
       "      <td>7.143016</td>\n",
       "      <td>7.695573</td>\n",
       "      <td>...</td>\n",
       "      <td>6.459582</td>\n",
       "      <td>6.279313</td>\n",
       "      <td>5.365979</td>\n",
       "      <td>6.067690</td>\n",
       "      <td>6.239443</td>\n",
       "      <td>6.295228</td>\n",
       "      <td>6.250536</td>\n",
       "      <td>6.136141</td>\n",
       "      <td>6.233503</td>\n",
       "      <td>6.223621</td>\n",
       "    </tr>\n",
       "    <tr>\n",
       "      <th>2</th>\n",
       "      <td>8.611960</td>\n",
       "      <td>8.002954</td>\n",
       "      <td>8.737158</td>\n",
       "      <td>8.361449</td>\n",
       "      <td>8.101130</td>\n",
       "      <td>7.667582</td>\n",
       "      <td>7.970313</td>\n",
       "      <td>8.077215</td>\n",
       "      <td>8.325011</td>\n",
       "      <td>8.681597</td>\n",
       "      <td>...</td>\n",
       "      <td>4.744833</td>\n",
       "      <td>3.490051</td>\n",
       "      <td>5.027695</td>\n",
       "      <td>4.829357</td>\n",
       "      <td>4.549755</td>\n",
       "      <td>4.233733</td>\n",
       "      <td>5.402216</td>\n",
       "      <td>3.665465</td>\n",
       "      <td>3.143446</td>\n",
       "      <td>2.948704</td>\n",
       "    </tr>\n",
       "    <tr>\n",
       "      <th>3</th>\n",
       "      <td>8.848571</td>\n",
       "      <td>8.970658</td>\n",
       "      <td>9.123092</td>\n",
       "      <td>8.198987</td>\n",
       "      <td>7.955693</td>\n",
       "      <td>7.708272</td>\n",
       "      <td>8.599546</td>\n",
       "      <td>8.860717</td>\n",
       "      <td>9.081618</td>\n",
       "      <td>8.776231</td>\n",
       "      <td>...</td>\n",
       "      <td>5.969242</td>\n",
       "      <td>5.911483</td>\n",
       "      <td>5.588607</td>\n",
       "      <td>6.053096</td>\n",
       "      <td>5.846416</td>\n",
       "      <td>5.755054</td>\n",
       "      <td>5.995076</td>\n",
       "      <td>5.817833</td>\n",
       "      <td>5.954871</td>\n",
       "      <td>5.973352</td>\n",
       "    </tr>\n",
       "    <tr>\n",
       "      <th>4</th>\n",
       "      <td>9.243228</td>\n",
       "      <td>7.337643</td>\n",
       "      <td>9.134301</td>\n",
       "      <td>8.696931</td>\n",
       "      <td>7.940413</td>\n",
       "      <td>8.081317</td>\n",
       "      <td>8.382841</td>\n",
       "      <td>8.811314</td>\n",
       "      <td>8.858009</td>\n",
       "      <td>8.707364</td>\n",
       "      <td>...</td>\n",
       "      <td>6.881947</td>\n",
       "      <td>6.865155</td>\n",
       "      <td>6.805534</td>\n",
       "      <td>6.699644</td>\n",
       "      <td>6.630863</td>\n",
       "      <td>6.596390</td>\n",
       "      <td>6.461123</td>\n",
       "      <td>6.571342</td>\n",
       "      <td>6.585400</td>\n",
       "      <td>6.485641</td>\n",
       "    </tr>\n",
       "  </tbody>\n",
       "</table>\n",
       "<p>5 rows × 32 columns</p>\n",
       "</div>"
      ],
      "text/plain": [
       "         0         1         2         3         4         5         6   \\\n",
       "0  8.295467  8.318956  7.999337  6.964759  6.827860  8.475189  6.470193   \n",
       "1  5.963892  8.545669  7.530862  7.587834  6.873149  8.250494  7.813603   \n",
       "2  8.611960  8.002954  8.737158  8.361449  8.101130  7.667582  7.970313   \n",
       "3  8.848571  8.970658  9.123092  8.198987  7.955693  7.708272  8.599546   \n",
       "4  9.243228  7.337643  9.134301  8.696931  7.940413  8.081317  8.382841   \n",
       "\n",
       "         7         8         9   ...        22        23        24        25  \\\n",
       "0  8.252470  8.389498  7.621969  ...  5.574076  5.432005  5.856495  5.523090   \n",
       "1  7.995235  7.143016  7.695573  ...  6.459582  6.279313  5.365979  6.067690   \n",
       "2  8.077215  8.325011  8.681597  ...  4.744833  3.490051  5.027695  4.829357   \n",
       "3  8.860717  9.081618  8.776231  ...  5.969242  5.911483  5.588607  6.053096   \n",
       "4  8.811314  8.858009  8.707364  ...  6.881947  6.865155  6.805534  6.699644   \n",
       "\n",
       "         26        27        28        29        30        31  \n",
       "0  6.458106  6.703065  6.202657  5.058894  3.085059  3.910491  \n",
       "1  6.239443  6.295228  6.250536  6.136141  6.233503  6.223621  \n",
       "2  4.549755  4.233733  5.402216  3.665465  3.143446  2.948704  \n",
       "3  5.846416  5.755054  5.995076  5.817833  5.954871  5.973352  \n",
       "4  6.630863  6.596390  6.461123  6.571342  6.585400  6.485641  \n",
       "\n",
       "[5 rows x 32 columns]"
      ]
     },
     "execution_count": 28,
     "metadata": {},
     "output_type": "execute_result"
    }
   ],
   "source": [
    "test.head()"
   ]
  },
  {
   "cell_type": "code",
   "execution_count": 29,
   "metadata": {},
   "outputs": [],
   "source": [
    "# CALCULATE POSTERIOR PROBABILITY AND PREDICT IT'S CLASS FOR EACH TEST SAMPLE\n",
    "test['posterior_speech'] = test.apply(lambda row: posterior_prob(row[:32], speech_means, speech_pis, speech_cov), axis=1)\n",
    "test['posterior_music'] = test.apply(lambda row: posterior_prob(row[:32], music_means, music_pis, music_cov), axis=1)\n",
    "test['predicted'] = test.apply(lambda row: prediction(row.posterior_speech, row.posterior_music), axis=1)"
   ]
  },
  {
   "cell_type": "code",
   "execution_count": 30,
   "metadata": {},
   "outputs": [
    {
     "name": "stdout",
     "output_type": "stream",
     "text": [
      "Accuracy = 97.91666666666666\n"
     ]
    }
   ],
   "source": [
    "# HERE THE AUDIO SAMPLE WILL BE CLASSIFIED AS MUSIC IF IT HAS MORE NO. OF MUSIC FRAMES THAN SPEECH FRAMES\n",
    "y = [1]*(total_samples//2)\n",
    "y.extend([0]* (total_samples//2))\n",
    "y_pred = []\n",
    "for i in range(total_samples):\n",
    "    pred = list(test['predicted'])[b*i: b*(i+1)]\n",
    "    sp = pred.count('speech')\n",
    "    mu = pred.count('music')\n",
    "    if sp > mu:\n",
    "        y_pred.append(0)\n",
    "    else:\n",
    "        y_pred.append(1)\n",
    "\n",
    "# CALCULATING ACCURACY\n",
    "true = 0\n",
    "for i in range(total_samples):\n",
    "    if y[i] == y_pred[i]:\n",
    "        true += 1\n",
    "acc = true/total_samples\n",
    "acc = acc * 100\n",
    "print('Accuracy = ' + str(acc))"
   ]
  },
  {
   "cell_type": "code",
   "execution_count": null,
   "metadata": {},
   "outputs": [],
   "source": []
  },
  {
   "cell_type": "code",
   "execution_count": null,
   "metadata": {},
   "outputs": [],
   "source": []
  }
 ],
 "metadata": {
  "kernelspec": {
   "display_name": "Python 3",
   "language": "python",
   "name": "python3"
  },
  "language_info": {
   "codemirror_mode": {
    "name": "ipython",
    "version": 3
   },
   "file_extension": ".py",
   "mimetype": "text/x-python",
   "name": "python",
   "nbconvert_exporter": "python",
   "pygments_lexer": "ipython3",
   "version": "3.8.5"
  }
 },
 "nbformat": 4,
 "nbformat_minor": 4
}
